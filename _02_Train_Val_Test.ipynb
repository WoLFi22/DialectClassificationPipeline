{
 "cells": [
  {
   "cell_type": "code",
   "execution_count": 1,
   "id": "04afbcf2",
   "metadata": {},
   "outputs": [],
   "source": [
    "from pydub import AudioSegment\n",
    "from random import sample\n",
    "from pathlib import Path\n",
    "import tensorflow as tf\n",
    "from glob import glob\n",
    "import pandas as pd\n",
    "import numpy as np\n",
    "import math\n",
    "import os\n"
   ]
  },
  {
   "cell_type": "markdown",
   "id": "bc089aac",
   "metadata": {},
   "source": [
    "## Create df with all classes, speaker and files\n",
    "### Parameters:\n",
    "\n",
    "- **path**:  \n",
    "  The path of the original audio files. Each folder within this path represents a dialect, and subfolders within each dialect folder should contain audio files from different speakers.  \n",
    "  \n",
    "- **path_aug**:  \n",
    "  The path of the augmented audio files. Each folder within this path represents a dialect, and subfolders within each dialect folder should contain audio files from different speakers.  \n",
    "\n",
    "- **name_aug**:  \n",
    "  Used for storing the resulting DataFrame as './All_Files_' + name_aug + '.pkl'.\n",
    "  \n",
    "- **test_only**:  \n",
    "  True if the run is only for making predictions.\n",
    "\n",
    "### Returns:\n",
    "\n",
    "Saves a DataFrame with the following columns:\n",
    "\n",
    "- _'dialect'_: Represents the class (dialect) of the audio.\n",
    "- _'speaker'_: Represents the speaker or place associated with the audio.\n",
    "- _'file\\_'_: Represents the name of the audio file.\n",
    "- _'length'_: Represents the number of samples in the audio file.\n",
    "- _'file\\_path'_: Represents the path of the audio file.\n",
    "\n",
    "The DataFrame is saved to './All_Files_' + name_aug + '.pkl'.\n"
   ]
  },
  {
   "cell_type": "code",
   "execution_count": 2,
   "id": "85f021b6",
   "metadata": {},
   "outputs": [],
   "source": [
    "def create_speaker_DF(path, path_aug, name_aug, test_only):\n",
    "    df = pd.DataFrame(columns=['dialect', 'speaker', 'file_name', 'length', 'file_path', 'augmented'])\n",
    "\n",
    "    df = sub(df, path, 'False', '')\n",
    "    if (name_aug != ''):\n",
    "        df = sub(df, path_aug, 'True', name_aug)\n",
    "    \n",
    "    if (test_only):\n",
    "        df.to_pickle('./All_Files_test.pkl')\n",
    "    else:\n",
    "        df.to_pickle('./All_Files_.pkl')\n",
    "    \n",
    "    return df\n"
   ]
  },
  {
   "cell_type": "code",
   "execution_count": null,
   "id": "abd5154f",
   "metadata": {},
   "outputs": [],
   "source": [
    "def sub(df, path, aug, name_aug):\n",
    "    all_speaker = []\n",
    "    all_speaker_name = []\n",
    "    \n",
    "    all_dialects = glob(path + '\\\\*', recursive = True)\n",
    "    for dialect in all_dialects:\n",
    "        all_speaker = np.concatenate((all_speaker, glob(dialect + '\\\\*', recursive = True)), axis=None)\n",
    "        all_speaker_name.append([f.name for f in os.scandir(dialect) if f.is_dir()])\n",
    "\n",
    "    audios = []\n",
    "    for path in all_speaker:\n",
    "        audios.extend(tf.io.gfile.glob(path + '\\\\*.wav'))\n",
    "    \n",
    "    for audio in audios:\n",
    "        split = audio.split('\\\\')\n",
    "    \n",
    "        audio_segment = AudioSegment.from_file(audio, \"wav\") \n",
    "        duration = len(audio_segment)\n",
    "    \n",
    "        speaker = split[-2]\n",
    "        list_row = [split[-3], speaker, Path(audio).name, duration, audio, aug]\n",
    "        df.loc[len(df)] = list_row\n",
    "    return df"
   ]
  },
  {
   "cell_type": "markdown",
   "id": "d08b953c",
   "metadata": {},
   "source": [
    "## select random speaker for test and for val for all classes\n",
    "### Parameters:\n",
    "\n",
    "- **df**:  \n",
    "  DataFrame created by the 'create_speaker_DF' function.\n",
    "\n",
    "### Returns:\n",
    "\n",
    "- **speaker_test_val**:  \n",
    "  A list of dialects, where each dialect is represented by a list. Each sublist contains approximately ⌈(#speakers_in_class / 10)⌉ * 2 random speakers. The first half of the sublist is designated for testing, while the second half is for validation.\n"
   ]
  },
  {
   "cell_type": "code",
   "execution_count": 3,
   "id": "0ff8ee14",
   "metadata": {},
   "outputs": [],
   "source": [
    "def choose(df):\n",
    "    \n",
    "    dialects = df['dialect'].unique().tolist()\n",
    "    speaker_all = [[] for _ in range(0, len(dialects))]\n",
    "    speaker_test_val = [[] for _ in range(0, len(dialects))]\n",
    "\n",
    "    for i in range(0, len(dialects)):\n",
    "        speaker_all[i] = df[(df['dialect'] == dialects[i]) & (df['augmented'] == 'False')]['speaker'].unique().tolist()\n",
    "        print('Number of Speaker for', dialects[i], ':', len(speaker_all[i]))\n",
    "    \n",
    "    for i in range(0, len(speaker_all)):\n",
    "        num_val_test = math.ceil(len(speaker_all[i])/10)\n",
    "        speaker_test_val[i] = sample(speaker_all[i], k=num_val_test*2)\n",
    "        print(dialects[i], 'Test', speaker_test_val[i][0:num_val_test], 'Val', speaker_test_val[i][num_val_test:num_val_test*2])\n",
    "        \n",
    "    return speaker_test_val\n"
   ]
  },
  {
   "cell_type": "markdown",
   "id": "d819aea0",
   "metadata": {},
   "source": [
    "## select random speaker for val for all classes\n",
    "### Parameters:\n",
    "\n",
    "- **df**:  \n",
    "  DataFrame created by the 'create_speaker_DF' function.\n",
    "\n",
    "### Returns:\n",
    "\n",
    "- **speaker_test_val**:  \n",
    "  A list contains approximately ⌈(#speakers_in_class / 10)⌉ random speakers.\n"
   ]
  },
  {
   "cell_type": "code",
   "execution_count": null,
   "id": "ded279d5",
   "metadata": {},
   "outputs": [],
   "source": [
    "def choose_train_only(df):\n",
    "    \n",
    "    dialects = df['dialect'].unique().tolist()\n",
    "    speaker_all = [[] for _ in range(0, len(dialects))]\n",
    "    speaker_val = []\n",
    "\n",
    "    for i in range(0, len(dialects)):\n",
    "        speaker_all[i] = df[(df['dialect'] == dialects[i]) & (df['augmented'] == 'False')]['speaker'].unique().tolist()\n",
    "        print('Number of Speaker for', dialects[i], ':', len(speaker_all[i]))\n",
    "    \n",
    "    for i in range(0, len(speaker_all)):\n",
    "        num_val = math.ceil(len(speaker_all[i])/10)\n",
    "        speaker_val.extend(sample(speaker_all[i], k=num_val))\n",
    "        \n",
    "    return speaker_val\n"
   ]
  },
  {
   "cell_type": "code",
   "execution_count": null,
   "id": "c57b30ab",
   "metadata": {},
   "outputs": [],
   "source": []
  }
 ],
 "metadata": {
  "kernelspec": {
   "display_name": "Python 3.9 (tf-gpu)",
   "language": "python",
   "name": "tf-gpu"
  },
  "language_info": {
   "codemirror_mode": {
    "name": "ipython",
    "version": 3
   },
   "file_extension": ".py",
   "mimetype": "text/x-python",
   "name": "python",
   "nbconvert_exporter": "python",
   "pygments_lexer": "ipython3",
   "version": "3.9.12"
  }
 },
 "nbformat": 4,
 "nbformat_minor": 5
}
