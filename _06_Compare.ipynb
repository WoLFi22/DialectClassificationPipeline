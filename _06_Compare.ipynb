{
 "cells": [
  {
   "cell_type": "code",
   "execution_count": 2,
   "id": "fa1b3622",
   "metadata": {},
   "outputs": [],
   "source": [
    "from sklearn.metrics import confusion_matrix\n",
    "from scipy.stats import mannwhitneyu\n",
    "from scipy.stats import ttest_ind\n",
    "import matplotlib.pyplot as plt\n",
    "import seaborn as sn\n",
    "import pandas as pd\n",
    "import numpy as np\n"
   ]
  },
  {
   "cell_type": "markdown",
   "id": "26ee604f",
   "metadata": {},
   "source": [
    "## calculates t-test and u-test"
   ]
  },
  {
   "cell_type": "code",
   "execution_count": 2,
   "id": "c5026667",
   "metadata": {},
   "outputs": [],
   "source": [
    "def significant(path_base, path_aug, column, alternative):\n",
    "    df_base = pd.read_pickle(path_base)\n",
    "    df_aug = pd.read_pickle(path_aug)\n",
    "    \n",
    "    f1_base = df_base[column].tolist()\n",
    "    f1_aug = df_aug[column].tolist()\n",
    "    \n",
    "    U_base, p = mannwhitneyu(f1_base, f1_aug, alternative=alternative)\n",
    "    n_base, n_aug = len(f1_base), len(f1_aug)\n",
    "    U_aug = n_base*n_aug - U_base\n",
    "    \n",
    "    res = ttest_ind(f1_base, f1_aug, alternative=alternative)\n",
    "    \n",
    "    var_base, var_aug = np.var(f1_base), np.var(f1_aug)\n",
    "    \n",
    "    return U_base, U_aug, p, res, var_base, var_aug\n"
   ]
  },
  {
   "cell_type": "markdown",
   "id": "e3035c87",
   "metadata": {},
   "source": [
    "## boxplot and raincoudplot of difference from two different runs"
   ]
  },
  {
   "cell_type": "code",
   "execution_count": 3,
   "id": "a2420f50",
   "metadata": {},
   "outputs": [],
   "source": [
    "def boxplot_diff(column, base, name, name_aug):\n",
    "    df = pd.read_pickle('./Results_' + base + '.pkl')\n",
    "    df_aug = pd.read_pickle('./Results_' + name + '_' + name_aug + '.pkl')\n",
    "    dat = df[column].tolist()\n",
    "    dat2 = df_aug[column].tolist()\n",
    "    data = [dat, dat2]\n",
    "    fig = plt.figure(figsize =(10, 7))\n",
    "    ax = fig.add_axes([0, 0, 1, 1])\n",
    "    ax.set_xticks([1, 2])\n",
    "    ax.set_xticklabels([base, name])\n",
    "    plt.title(\"Boxplot of \" + column)\n",
    "    bp = ax.boxplot(data, showmeans=True)\n",
    "    ax.set_ylim(0,0.5)\n",
    "    plt.savefig('boxplot_diff_' + column + '_' + base + '_' + name + '_' + name_aug + '.png', bbox_inches='tight')\n",
    "    plt.close()\n",
    "    "
   ]
  },
  {
   "cell_type": "code",
   "execution_count": 4,
   "id": "ecba928d",
   "metadata": {},
   "outputs": [],
   "source": [
    "def raincloud_diff(column, base, name, name_aug):\n",
    "    \n",
    "    fig, ax = plt.subplots(figsize=(8, 4))\n",
    "\n",
    "    boxplots_colors = ['yellowgreen', 'yellowgreen']\n",
    "    \n",
    "    df = pd.read_pickle('./Results_' + base + '.pkl')\n",
    "    df_aug = pd.read_pickle('./Results_' + name + '_' + name_aug + '.pkl')\n",
    "    dat = df[column].tolist()\n",
    "    dat2 = df_aug[column].tolist()\n",
    "    data = [dat, dat2]\n",
    "\n",
    "    bp = ax.boxplot(data, patch_artist = True, vert = False)\n",
    "\n",
    "    for patch, color in zip(bp['boxes'], boxplots_colors):\n",
    "        patch.set_facecolor(color)\n",
    "        patch.set_alpha(0.4)\n",
    "\n",
    "    violin_colors = ['purple', 'purple']\n",
    "\n",
    "    vp = ax.violinplot(data, points=500, \n",
    "               showmeans=False, showextrema=False, showmedians=False, vert=False)\n",
    "\n",
    "    for idx, b in enumerate(vp['bodies']):\n",
    "        m = np.mean(b.get_paths()[0].vertices[:, 0])\n",
    "        b.get_paths()[0].vertices[:, 1] = np.clip(b.get_paths()[0].vertices[:, 1], idx+1, idx+2)\n",
    "        b.set_color(violin_colors[idx])\n",
    "\n",
    "    scatter_colors = ['tomato', 'tomato']\n",
    "\n",
    "    for idx, features in enumerate(data):\n",
    "        y = np.full(len(features), idx + .8)\n",
    "        idxs = np.arange(len(y))\n",
    "        out = y.astype(float)\n",
    "        out.flat[idxs] += np.random.uniform(low=-.1, high=.1, size=len(idxs))\n",
    "        y = out\n",
    "        plt.scatter(features, y, s=.3, c=scatter_colors[idx])\n",
    "\n",
    "    plt.yticks(np.arange(1,3,1), [base, name])\n",
    "    plt.xlabel('Scores')\n",
    "    ax.set_xlim(0,0.5)\n",
    "    plt.title(\"RainCloudPlot of \" + column)\n",
    "    plt.savefig('raincloudplot_diff_' + column + '_' + base + '_' + name + '_' + name_aug + '.png', bbox_inches='tight')\n",
    "    plt.close()\n",
    "    "
   ]
  },
  {
   "cell_type": "markdown",
   "id": "3d7b9c07",
   "metadata": {},
   "source": [
    "## difference of confusion matrices"
   ]
  },
  {
   "cell_type": "code",
   "execution_count": 1,
   "id": "f197c3dc",
   "metadata": {},
   "outputs": [],
   "source": [
    "def compareConfusionMatrix(name, name_aug, name_base, mapping, absolute):\n",
    "    df_results1 = pd.read_pickle('./Results_' + name + '_' + name_aug + '.pkl')\n",
    "    df_results2 = pd.read_pickle('./Results_' + name_base + '.pkl')\n",
    "    \n",
    "    y_true1 = np.concatenate(df_results1['classes_true'].tolist()).ravel()\n",
    "    y_pred1 = np.concatenate(df_results1['classes_x'].tolist()).ravel()\n",
    "    \n",
    "    y_true2 = np.concatenate(df_results2['classes_true'].tolist()).ravel()\n",
    "    y_pred2 = np.concatenate(df_results2['classes_x'].tolist()).ravel()\n",
    "\n",
    "    mapping = {key: np.argmax(value) for key, value in mapping.items()}\n",
    "    reversed_mapping = {value: key for key, value in mapping.items()}\n",
    "    \n",
    "    true_mapped_list1 = [reversed_mapping[key] for key in y_true1]\n",
    "    pred_mapped_list1 = [reversed_mapping[key] for key in y_pred1]\n",
    "    \n",
    "    true_mapped_list2 = [reversed_mapping[key] for key in y_true2]\n",
    "    pred_mapped_list2 = [reversed_mapping[key] for key in y_pred2]\n",
    "    \n",
    "    cm_labels = np.unique(true_mapped_list1 + true_mapped_list2)\n",
    "                  \n",
    "    matrix1 = confusion_matrix(true_mapped_list1, pred_mapped_list1, labels=cm_labels)\n",
    "    matrix2 = confusion_matrix(true_mapped_list2, pred_mapped_list2, labels=cm_labels)\n",
    "\n",
    "    if absolute:\n",
    "        diff_matrix = matrix1 - matrix2\n",
    "        df_cfm = pd.DataFrame(diff_matrix, index=cm_labels, columns=cm_labels)\n",
    "    else:\n",
    "        row_sums1 = matrix1.sum(axis=1, keepdims=True)\n",
    "        row_sums2 = matrix2.sum(axis=1, keepdims=True)\n",
    "        normalized_matrix1 = matrix1 / row_sums1\n",
    "        normalized_matrix2 = matrix2 / row_sums2\n",
    "        diff_matrix = normalized_matrix1 - normalized_matrix2\n",
    "        df_cfm = pd.DataFrame(diff_matrix, index=cm_labels, columns=cm_labels)\n",
    "    \n",
    "    plt.figure(figsize = (10,7))\n",
    "    cfm_plot = sn.heatmap(df_cfm, annot=True, fmt='.2f' if not absolute else 'g', annot_kws={\"fontsize\": 8} if not absolute else {\"fontsize\": 10})\n",
    "    \n",
    "    plt.xlabel('Predicted label', fontsize=12)\n",
    "    plt.ylabel('True label', fontsize=12)\n",
    "    cfm_plot.set_xticklabels(cfm_plot.get_xticklabels(), rotation=45, ha='right', rotation_mode='anchor')\n",
    "    cfm_plot.set_yticklabels(cfm_plot.get_yticklabels(), rotation=45, ha='right', rotation_mode='anchor')\n",
    "    plt.tight_layout()\n",
    "    \n",
    "    if absolute:\n",
    "        cfm_plot.figure.savefig(\"diff_confusion_matrix.png\")\n",
    "    else:\n",
    "        cfm_plot.figure.savefig(\"diff_normalized_confusion_matrix.png\")\n",
    "    \n",
    "    plt.close()\n",
    "    "
   ]
  },
  {
   "cell_type": "code",
   "execution_count": null,
   "id": "d5440337",
   "metadata": {},
   "outputs": [],
   "source": []
  }
 ],
 "metadata": {
  "kernelspec": {
   "display_name": "Python 3 (ipykernel)",
   "language": "python",
   "name": "python3"
  },
  "language_info": {
   "codemirror_mode": {
    "name": "ipython",
    "version": 3
   },
   "file_extension": ".py",
   "mimetype": "text/x-python",
   "name": "python",
   "nbconvert_exporter": "python",
   "pygments_lexer": "ipython3",
   "version": "3.9.12"
  }
 },
 "nbformat": 4,
 "nbformat_minor": 5
}
